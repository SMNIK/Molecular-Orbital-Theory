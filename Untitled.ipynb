{
 "cells": [
  {
   "cell_type": "markdown",
   "metadata": {},
   "source": [
    "# Test report\n",
    "> During this part, we investigate the command line of [Unittest](https://docs.python.org/3/library/unittest.html) to show the bugs of the main code and debug them. <br>\n",
    "Also, there are other methods to test this code too, and you can try."
   ]
  },
  {
   "cell_type": "markdown",
   "metadata": {},
   "source": [
    "Unittest is the simplest command which means that the testing of the smallest part (unit) of the code, which contains the \"Method\" or \"Function\". So, we need to write unittest for each function separately, and complete the code."
   ]
  },
  {
   "cell_type": "code",
   "execution_count": null,
   "metadata": {},
   "outputs": [],
   "source": []
  }
 ],
 "metadata": {
  "kernelspec": {
   "display_name": "Python 3",
   "language": "python",
   "name": "python3"
  },
  "language_info": {
   "codemirror_mode": {
    "name": "ipython",
    "version": 3
   },
   "file_extension": ".py",
   "mimetype": "text/x-python",
   "name": "python",
   "nbconvert_exporter": "python",
   "pygments_lexer": "ipython3",
   "version": "3.8.3"
  }
 },
 "nbformat": 4,
 "nbformat_minor": 4
}
