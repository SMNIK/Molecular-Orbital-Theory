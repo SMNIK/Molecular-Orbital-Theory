{
 "cells": [
  {
   "cell_type": "code",
   "execution_count": 1,
   "metadata": {},
   "outputs": [
    {
     "name": "stdout",
     "output_type": "stream",
     "text": [
      "============================= test session starts =============================\n",
      "platform win32 -- Python 3.8.3, pytest-5.4.3, py-1.9.0, pluggy-0.13.1\n",
      "rootdir: C:\\Users\\masou\\GitHub\\Molecular-Orbital-theory\n",
      "plugins: hypothesis-5.38.1\n",
      "collected 6 items\n",
      "\n",
      "testing.py .F....                                                        [100%]\n",
      "\n",
      "================================== FAILURES ===================================\n",
      "_______________________ TestBenzene.test_benzene_lists ________________________\n",
      "\n",
      "self = <testing.TestBenzene testMethod=test_benzene_lists>\n",
      "\n",
      "    def test_benzene_lists(self):\n",
      "        print('test the coefficients lists of benzene')\n",
      "        # creat a loop to check each elements and decrease the decimal parts or Approximate comparison\n",
      "        density = [1.02, 0.9, 1.08, 1.02, 0.9, 1.08]\n",
      "        order = [1.56, 1.65, 1.77, 1.56, 1.65, 1.77]\n",
      "        for s in range(len(self.benzene.charge_density)):\n",
      "            first = self.benzene.charge_density[s]\n",
      "            second4 = density[s]\n",
      "            message = 'The charge density elements for testing are not almost equal'\n",
      "            self.assertAlmostEqual(first, second4, 2, message, None)\n",
      "    \n",
      "            bond = self.benzene.bond_order[s]\n",
      "            second5 = order[s]\n",
      "            message0 = 'The bond order elements for testing are not almost equal'\n",
      ">           self.assertAlmostEqual(bond, second5, 2, message0, None)\n",
      "E           AssertionError: 1.5841173449003443 != 1.56 within 2 places (0.02411734490034423 difference) : The bond order elements for testing are not almost equal\n",
      "\n",
      "testing.py:72: AssertionError\n",
      "---------------------------- Captured stdout call -----------------------------\n",
      "set up Benzene\n",
      "Figure(640x480)\n",
      "test the coefficients lists of benzene\n",
      "tear down Benzene\n",
      "\n",
      "============================== warnings summary ===============================\n",
      "testing.py::TestBenzene::test_benzene_coefficients\n",
      "testing.py::TestBenzene::test_benzene_lists\n",
      "testing.py::TestBenzene::test_benzene_str\n",
      "  C:\\Users\\masou\\GitHub\\Molecular-Orbital-theory\\testing.py:30: PendingDeprecationWarning: the matrix subclass is not the recommended way to represent matrices or deal with linear algebra (see https://docs.scipy.org/doc/numpy/user/numpy-for-matlab-users.html). Please adjust your code to use regular ndarray.\n",
      "    self.benzene = Molecule(\"Benzene\", np.matrix([]), 6, 6, 3)\n",
      "\n",
      "testing.py::TestBenzene::test_benzene_coefficients\n",
      "testing.py::TestBenzene::test_benzene_lists\n",
      "testing.py::TestBenzene::test_benzene_str\n",
      "  C:\\Users\\masou\\GitHub\\Molecular-Orbital-theory\\Molecule.py:102: PendingDeprecationWarning: the matrix subclass is not the recommended way to represent matrices or deal with linear algebra (see https://docs.scipy.org/doc/numpy/user/numpy-for-matlab-users.html). Please adjust your code to use regular ndarray.\n",
      "    self.H = np.matrix(H)\n",
      "\n",
      "testing.py::TestBenzene::test_benzene_coefficients\n",
      "testing.py::TestBenzene::test_benzene_lists\n",
      "testing.py::TestBenzene::test_benzene_str\n",
      "testing.py::TestButadiene::test_butadiene_coefficients\n",
      "testing.py::TestButadiene::test_butadiene_lists\n",
      "testing.py::TestButadiene::test_butadiene_str\n",
      "  C:\\Users\\masou\\GitHub\\Molecular-Orbital-theory\\Molecule.py:81: PendingDeprecationWarning: the matrix subclass is not the recommended way to represent matrices or deal with linear algebra (see https://docs.scipy.org/doc/numpy/user/numpy-for-matlab-users.html). Please adjust your code to use regular ndarray.\n",
      "    self.H = np.matrix(\n",
      "\n",
      "testing.py::TestButadiene::test_butadiene_coefficients\n",
      "testing.py::TestButadiene::test_butadiene_lists\n",
      "testing.py::TestButadiene::test_butadiene_str\n",
      "  C:\\Users\\masou\\GitHub\\Molecular-Orbital-theory\\testing.py:109: PendingDeprecationWarning: the matrix subclass is not the recommended way to represent matrices or deal with linear algebra (see https://docs.scipy.org/doc/numpy/user/numpy-for-matlab-users.html). Please adjust your code to use regular ndarray.\n",
      "    self.butadiene_H = np.matrix([[a, b, 0, 0], [b, a, b, 0],[0, b, a, b], [0, 0, b, a]])\n",
      "\n",
      "-- Docs: https://docs.pytest.org/en/latest/warnings.html\n",
      "=========================== short test summary info ===========================\n",
      "FAILED testing.py::TestBenzene::test_benzene_lists - AssertionError: 1.584117...\n",
      "================== 1 failed, 5 passed, 15 warnings in 3.49s ===================\n"
     ]
    }
   ],
   "source": [
    "!pytest testing.py"
   ]
  },
  {
   "cell_type": "code",
   "execution_count": null,
   "metadata": {},
   "outputs": [],
   "source": []
  }
 ],
 "metadata": {
  "kernelspec": {
   "display_name": "Python 3",
   "language": "python",
   "name": "python3"
  },
  "language_info": {
   "codemirror_mode": {
    "name": "ipython",
    "version": 3
   },
   "file_extension": ".py",
   "mimetype": "text/x-python",
   "name": "python",
   "nbconvert_exporter": "python",
   "pygments_lexer": "ipython3",
   "version": "3.8.3"
  }
 },
 "nbformat": 4,
 "nbformat_minor": 4
}
