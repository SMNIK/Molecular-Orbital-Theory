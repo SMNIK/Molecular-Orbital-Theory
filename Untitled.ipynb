{
 "cells": [
  {
   "cell_type": "code",
   "execution_count": 4,
   "metadata": {},
   "outputs": [
    {
     "name": "stdout",
     "output_type": "stream",
     "text": [
      "============================= test session starts =============================\n",
      "platform win32 -- Python 3.8.3, pytest-5.4.3, py-1.9.0, pluggy-0.13.1\n",
      "rootdir: C:\\Users\\masou\\GitHub\\Molecular-Orbital-theory\n",
      "plugins: hypothesis-5.38.1\n",
      "collected 2 items\n",
      "\n",
      "testing.py ..                                                            [100%]\n",
      "\n",
      "============================== warnings summary ===============================\n",
      "testing.py::TestBenzene::test_benzene_coefficients\n",
      "testing.py::TestBenzene::test_benzene_str\n",
      "  C:\\Users\\masou\\GitHub\\Molecular-Orbital-theory\\testing.py:25: PendingDeprecationWarning: the matrix subclass is not the recommended way to represent matrices or deal with linear algebra (see https://docs.scipy.org/doc/numpy/user/numpy-for-matlab-users.html). Please adjust your code to use regular ndarray.\n",
      "    self.benzene = Molecule(\"Benzene\", np.matrix([]), 6, 6, 3)\n",
      "\n",
      "testing.py::TestBenzene::test_benzene_coefficients\n",
      "testing.py::TestBenzene::test_benzene_str\n",
      "  C:\\Users\\masou\\GitHub\\Molecular-Orbital-theory\\Molecule.py:102: PendingDeprecationWarning: the matrix subclass is not the recommended way to represent matrices or deal with linear algebra (see https://docs.scipy.org/doc/numpy/user/numpy-for-matlab-users.html). Please adjust your code to use regular ndarray.\n",
      "    self.H = np.matrix(H)\n",
      "\n",
      "testing.py::TestBenzene::test_benzene_coefficients\n",
      "testing.py::TestBenzene::test_benzene_str\n",
      "  C:\\Users\\masou\\GitHub\\Molecular-Orbital-theory\\Molecule.py:81: PendingDeprecationWarning: the matrix subclass is not the recommended way to represent matrices or deal with linear algebra (see https://docs.scipy.org/doc/numpy/user/numpy-for-matlab-users.html). Please adjust your code to use regular ndarray.\n",
      "    self.H = np.matrix(\n",
      "\n",
      "testing.py::TestBenzene::test_benzene_coefficients\n",
      "  C:\\Users\\masou\\GitHub\\Molecular-Orbital-theory\\testing.py:48: DeprecationWarning: Please use assertAlmostEqual instead.\n",
      "    self.assertAlmostEquals(self.benzene.alpha, 0)\n",
      "\n",
      "-- Docs: https://docs.pytest.org/en/latest/warnings.html\n",
      "======================== 2 passed, 7 warnings in 3.89s ========================\n"
     ]
    }
   ],
   "source": [
    "!pytest testing.py"
   ]
  },
  {
   "cell_type": "code",
   "execution_count": null,
   "metadata": {},
   "outputs": [],
   "source": []
  }
 ],
 "metadata": {
  "kernelspec": {
   "display_name": "Python 3",
   "language": "python",
   "name": "python3"
  },
  "language_info": {
   "codemirror_mode": {
    "name": "ipython",
    "version": 3
   },
   "file_extension": ".py",
   "mimetype": "text/x-python",
   "name": "python",
   "nbconvert_exporter": "python",
   "pygments_lexer": "ipython3",
   "version": "3.8.3"
  }
 },
 "nbformat": 4,
 "nbformat_minor": 4
}
