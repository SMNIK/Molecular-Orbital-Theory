{
 "cells": [
  {
   "cell_type": "markdown",
   "metadata": {},
   "source": [
    "# Test report\n",
    "> During this part, we investigate the command line of [Unittest](https://docs.python.org/3/library/unittest.html) to show the bugs of the main code and debug them. <br>\n",
    "Also, there are other methods to test this code too, and you can try."
   ]
  },
  {
   "cell_type": "markdown",
   "metadata": {},
   "source": [
    "Unittest is the simplest command which means that the testing of the smallest part (unit) of the code, which contains the \"Method\" or \"Function\". So, we need to write unittest for each function separately and complete the code.<br>\n",
    "Here the heart of the program is the [Molecule.py](https://github.com/SMNIK/Molecular-Orbital-Theory/blob/master/Molecule.py) file, so below we investigate the functions of this code step by step.\n",
    "\n",
    "The first function is the \"__init__\" which is the complete function that explains the name, number of pi shell electrons, number of carbon atoms, e.g. and  \n"
   ]
  },
  {
   "cell_type": "code",
   "execution_count": null,
   "metadata": {},
   "outputs": [],
   "source": []
  }
 ],
 "metadata": {
  "kernelspec": {
   "display_name": "Python 3",
   "language": "python",
   "name": "python3"
  },
  "language_info": {
   "codemirror_mode": {
    "name": "ipython",
    "version": 3
   },
   "file_extension": ".py",
   "mimetype": "text/x-python",
   "name": "python",
   "nbconvert_exporter": "python",
   "pygments_lexer": "ipython3",
   "version": "3.8.3"
  }
 },
 "nbformat": 4,
 "nbformat_minor": 4
}
