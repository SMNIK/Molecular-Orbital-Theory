{
 "cells": [
  {
   "cell_type": "markdown",
   "metadata": {},
   "source": [
    "# Test report\n",
    "> During this part, we investigate the command line of [Unittest](https://docs.python.org/3/library/unittest.html) to show the bugs of the main code and debug them. <br>\n",
    "Also, there are other methods to test this code too, and you can try."
   ]
  },
  {
   "cell_type": "markdown",
   "metadata": {},
   "source": [
    "Unittest is the simplest command which means that the testing of the smallest part (unit) of the code, which contains the \"Method\" or \"Function\". So, we need to write unittest for each function separately and complete the code.<br>\n",
    "Here the heart of the program is the [Molecule.py](https://github.com/SMNIK/Molecular-Orbital-Theory/blob/master/Molecule.py) file, so below we investigate the functions of this code step by step.<br>\n",
    "The first part of the class which starts with __init__ is the constructor method which is so useful to manage our functions and data structure.<br>\n",
    "Here, before starting the testing functions we could just check if all of them exist and we did not mess up anyone."
   ]
  },
  {
   "cell_type": "code",
   "execution_count": 2,
   "metadata": {},
   "outputs": [
    {
     "data": {
      "image/png": "[encoded data removed]",
      "text/plain": [
       "<Figure size 432x288 with 1 Axes>"
      ]
     },
     "metadata": {
      "needs_background": "light"
     },
     "output_type": "display_data"
    },
    {
     "name": "stdout",
     "output_type": "stream",
     "text": [
      "---Benzene--- \n",
      "[[ 0. -1.  0.  0.  0. -1.]\n",
      " [-1.  0. -1.  0.  0.  0.]\n",
      " [ 0. -1.  0. -1.  0.  0.]\n",
      " [ 0.  0. -1.  0. -1.  0.]\n",
      " [ 0.  0.  0. -1.  0. -1.]\n",
      " [-1.  0.  0.  0. -1.  0.]]\n",
      "Charge Density :[1.0170175493289442, 0.900433128904733, 1.0825493217663222, 1.0170175493289442, 0.900433128904733, 1.0825493217663227]\n",
      "Delocalization Energy :-2.00000000000000\n",
      "Bond Order :[1.5841173449003443, 1.6496491173377221, 1.7662335377619334, 1.584117344900344, 1.6496491173377221, 1.7662335377619331]\n",
      "\n"
     ]
    }
   ],
   "source": [
    "import unittest\n",
    "import numpy as np\n",
    "from Molecule import Molecule\n",
    "from Benzene import benzene\n",
    "\n",
    "\n",
    "class Test(unittest.TestCase):\n",
    "    def test(self):\n",
    "        assert Molecule\n",
    "        assert Molecule.find_bond_order\n",
    "        assert Molecule.find_deloc_energy\n",
    "        assert Molecule.find_charge_density\n",
    "        assert Molecule.find_nodes\n",
    "        assert Molecule.set_constants\n",
    "        assert Molecule.generate_eigen\n",
    "        assert Molecule.generate_H\n",
    "        assert Molecule.energy_level_plot\n",
    "        assert Molecule.delete_connections\n",
    "        assert Molecule.add_connections\n",
    "        assert Molecule.__str__\n",
    "        assert Molecule.__init__"
   ]
  },
  {
   "cell_type": "code",
   "execution_count": 6,
   "metadata": {},
   "outputs": [
    {
     "name": "stdout",
     "output_type": "stream",
     "text": [
      "============================= test session starts =============================\n",
      "platform win32 -- Python 3.8.3, pytest-5.4.3, py-1.9.0, pluggy-0.13.1\n",
      "rootdir: C:\\Users\\masou\\GitHub\\Molecular-Orbital-theory\n",
      "plugins: hypothesis-5.38.1\n",
      "collected 1 item\n",
      "\n",
      "testing.py .                                                             [100%]\n",
      "\n",
      "============================== 1 passed in 3.05s ==============================\n"
     ]
    }
   ],
   "source": [
    "!pytest testing.py"
   ]
  },
  {
   "cell_type": "markdown",
   "metadata": {},
   "source": [
    "<hr>"
   ]
  },
  {
   "cell_type": "markdown",
   "metadata": {},
   "source": [
    "Now to test the functions and debug them, we just start with a simple method and use the Benzene data and built the molecule and by its feedback, we will check the answers, and for this, we could print the calculated data for a more clear view. So, first, let to put Benzene molecule data and receives the outline data:"
   ]
  },
  {
   "cell_type": "code",
   "execution_count": 9,
   "metadata": {},
   "outputs": [
    {
     "name": "stdout",
     "output_type": "stream",
     "text": [
      "b.name:  Benzene\n",
      "b.H:  [[ 0. -1.  0.  0.  0. -1.]\n",
      " [-1.  0. -1.  0.  0.  0.]\n",
      " [ 0. -1.  0. -1.  0.  0.]\n",
      " [ 0.  0. -1.  0. -1.  0.]\n",
      " [ 0.  0.  0. -1.  0. -1.]\n",
      " [-1.  0.  0.  0. -1.  0.]]\n",
      "b.num_pi_electrons:  6\n",
      "b.num_carbons:  6\n",
      "b.num_double_bonds:  3\n",
      "b.alpha:  0\n",
      "b.beta:  -1\n",
      "b.bond_order:  [1.5841173449003443, 1.6496491173377221, 1.7662335377619334, 1.584117344900344, 1.6496491173377221, 1.7662335377619331]\n",
      "b.deloc_energy:  -2.00000000000000\n",
      "b.eigenvalues:  2.0\n",
      "b.eigenvectors:  [[[-0.40824829046386285], [-0.4082482904638627], [-0.4082482904638631], [-0.4082482904638632], [-0.4082482904638632], [-0.40824829046386285]], [[-0.5773502691896258], [-0.2886751345948131], [0.28867513459481264], [0.5773502691896256], [0.28867513459481275], [-0.28867513459481303]], [[0.09224301959753999], [-0.44745565640895263], [-0.5396986760064928], [-0.09224301959754018], [0.4474556564089524], [0.5396986760064929]], [[0.5773502691896257], [-0.28867513459481275], [-0.288675134594813], [0.5773502691896258], [-0.288675134594813], [-0.2886751345948127]], [[0.06190873143733868], [-0.5280715367446405], [0.4661628053073017], [0.061908731437338535], [-0.5280715367446402], [0.466162805307302]], [[-0.40824829046386296], [0.408248290463863], [-0.408248290463863], [0.408248290463863], [-0.40824829046386313], [0.4082482904638631]]]\n",
      "b.eigval_eigvect:  [(-2.0, matrix([[-0.40824829],\n",
      "        [-0.40824829],\n",
      "        [-0.40824829],\n",
      "        [-0.40824829],\n",
      "        [-0.40824829],\n",
      "        [-0.40824829]])), (-1.0, matrix([[-0.57735027],\n",
      "        [-0.28867513],\n",
      "        [ 0.28867513],\n",
      "        [ 0.57735027],\n",
      "        [ 0.28867513],\n",
      "        [-0.28867513]])), (-1.0, matrix([[ 0.09224302],\n",
      "        [-0.44745566],\n",
      "        [-0.53969868],\n",
      "        [-0.09224302],\n",
      "        [ 0.44745566],\n",
      "        [ 0.53969868]])), (1.0, matrix([[ 0.57735027],\n",
      "        [-0.28867513],\n",
      "        [-0.28867513],\n",
      "        [ 0.57735027],\n",
      "        [-0.28867513],\n",
      "        [-0.28867513]])), (1.0, matrix([[ 0.06190873],\n",
      "        [-0.52807154],\n",
      "        [ 0.46616281],\n",
      "        [ 0.06190873],\n",
      "        [-0.52807154],\n",
      "        [ 0.46616281]])), (2.0, matrix([[-0.40824829],\n",
      "        [ 0.40824829],\n",
      "        [-0.40824829],\n",
      "        [ 0.40824829],\n",
      "        [-0.40824829],\n",
      "        [ 0.40824829]]))]\n",
      "b.eigval_multiplicity:  [(-2.0, 1), (-1.0, 2), (1.0, 2), (2.0, 1)]\n",
      "b.charge_density:  [1.0170175493289442, 0.900433128904733, 1.0825493217663222, 1.0170175493289442, 0.900433128904733, 1.0825493217663227]\n",
      "b.num_additional_connections:  1\n",
      "b.con:  [[1, 6]]\n",
      "b.e_per_energy_lvl:  [(-2.0, 2), (-1.0, 4), (1.0, 0), (2.0, 0)]\n",
      "b.e_per_eigen_vect:  [(matrix([[-0.40824829],\n",
      "        [-0.40824829],\n",
      "        [-0.40824829],\n",
      "        [-0.40824829],\n",
      "        [-0.40824829],\n",
      "        [-0.40824829]]), 2), (matrix([[-0.57735027],\n",
      "        [-0.28867513],\n",
      "        [ 0.28867513],\n",
      "        [ 0.57735027],\n",
      "        [ 0.28867513],\n",
      "        [-0.28867513]]), 2), (matrix([[ 0.09224302],\n",
      "        [-0.44745566],\n",
      "        [-0.53969868],\n",
      "        [-0.09224302],\n",
      "        [ 0.44745566],\n",
      "        [ 0.53969868]]), 2), (matrix([[ 0.57735027],\n",
      "        [-0.28867513],\n",
      "        [-0.28867513],\n",
      "        [ 0.57735027],\n",
      "        [-0.28867513],\n",
      "        [-0.28867513]]), 0), (matrix([[ 0.06190873],\n",
      "        [-0.52807154],\n",
      "        [ 0.46616281],\n",
      "        [ 0.06190873],\n",
      "        [-0.52807154],\n",
      "        [ 0.46616281]]), 0), (matrix([[-0.40824829],\n",
      "        [ 0.40824829],\n",
      "        [-0.40824829],\n",
      "        [ 0.40824829],\n",
      "        [-0.40824829],\n",
      "        [ 0.40824829]]), 0)]\n"
     ]
    }
   ],
   "source": [
    "print(\"b.name: \", benzene.name)\n",
    "print(\"b.H: \", benzene.H)\n",
    "print(\"b.num_pi_electrons: \", benzene.num_pi_electrons)\n",
    "print(\"b.num_carbons: \", benzene.num_carbons)\n",
    "print(\"b.num_double_bonds: \", benzene.num_double_bonds)\n",
    "print(\"b.alpha: \", benzene.alpha)\n",
    "print(\"b.beta: \", benzene.beta)\n",
    "print(\"b.bond_order: \", benzene.bond_order)\n",
    "print(\"b.deloc_energy: \", benzene.deloc_energy)\n",
    "print(\"b.eigenvalues: \", benzene.eigenvalues)\n",
    "print(\"b.eigenvectors: \", benzene.eigenvectors)\n",
    "print(\"b.eigval_eigvect: \", benzene.eigval_eigvect)\n",
    "print(\"b.eigval_multiplicity: \", benzene.eigval_multiplicity)\n",
    "print(\"b.charge_density: \", benzene.charge_density)\n",
    "print(\"b.num_additional_connections: \", benzene.num_additional_connections)\n",
    "print(\"b.con: \", benzene.con)\n",
    "print(\"b.e_per_energy_lvl: \", benzene.e_per_energy_lvl)\n",
    "print(\"b.e_per_eigen_vect: \", benzene.e_per_eigen_vect)"
   ]
  },
  {
   "cell_type": "code",
   "execution_count": 14,
   "metadata": {},
   "outputs": [
    {
     "name": "stdout",
     "output_type": "stream",
     "text": [
      "---Benzene--- \n",
      "[[ 0. -1.  0.  0.  0. -1.]\n",
      " [-1.  0. -1.  0.  0.  0.]\n",
      " [ 0. -1.  0. -1.  0.  0.]\n",
      " [ 0.  0. -1.  0. -1.  0.]\n",
      " [ 0.  0.  0. -1.  0. -1.]\n",
      " [-1.  0.  0.  0. -1.  0.]]\n",
      "Charge Density :[1.0170175493289442, 0.900433128904733, 1.0825493217663222, 1.0170175493289442, 0.900433128904733, 1.0825493217663227]\n",
      "Delocalization Energy :-2.00000000000000\n",
      "Bond Order :[1.5841173449003443, 1.6496491173377221, 1.7662335377619334, 1.584117344900344, 1.6496491173377221, 1.7662335377619331]\n",
      "\n"
     ]
    }
   ],
   "source": [
    "print(benzene.__str__())"
   ]
  },
  {
   "cell_type": "markdown",
   "metadata": {},
   "source": [
    "As it is clear from the top data the Molecule file works as well and give back the correct answer to the Benzene's molecule data. For deeper investigating and better underestanding we wil study one of attributes as an example.<br>\n",
    "The \"_init_\" attribute as is clear from [Molecule.py](https://github.com/SMNIK/Molecular-Orbital-Theory/blob/master/Molecule.py) and the structure of the attribute is: "
   ]
  },
  {
   "cell_type": "code",
   "execution_count": 15,
   "metadata": {},
   "outputs": [],
   "source": [
    "    def __init__(self, name, H, num_pi_electrons, num_carbons, num_double_bonds):\n",
    "\n",
    "        self.H = H\n",
    "        self.name = name\n",
    "        self.num_carbons = num_carbons\n",
    "        self.eigenvalues = []\n",
    "        self.eigenvectors = []\n",
    "        self.normalized_eigenvectors = []\n",
    "        self.eigval_eigvect = []         # Associate Eigenvalue with its Eigenvect\n",
    "        self.eigval_multiplicity = []\n",
    "        self.num_pi_electrons = num_pi_electrons\n",
    "        self.deloc_energy = 0.0\n",
    "        self.alpha = None\n",
    "        self.beta = None\n",
    "        self.charge_density = []\n",
    "        self.bond_order = []\n",
    "        self.num_additional_connections = 0\n",
    "        self.con = []\n",
    "        self.num_double_bonds = num_double_bonds\n",
    "\n",
    "        # This is our internal data structure that contains [(eig_value, # of Electrons)]\n",
    "        self.e_per_energy_lvl = []\n",
    "        self.e_per_eigen_vect = []"
   ]
  },
  {
   "cell_type": "markdown",
   "metadata": {},
   "source": [
    "Which it takes the order of Molecule class. As you see, __init__ containes 6 required positional arguments which self (self represents the instance of the class. By using the “self” keyword we can access the attributes and methods of the class in python. It binds the attributes with the given arguments.) is not one of them, here we just use self command to connect our functions and class that do not need to calculate each function seperatley (it means by using the basic data about molecule structure we could calculate all data about that which is clear above). If you check the [Benzene.py](https://github.com/SMNIK/Molecular-Orbital-Theory/blob/master/molecules/Benzene.py) where:"
   ]
  },
  {
   "cell_type": "code",
   "execution_count": 16,
   "metadata": {},
   "outputs": [],
   "source": [
    "benzene = Molecule(\"Benzene\", np.matrix([]), 6, 6, 3)"
   ]
  },
  {
   "cell_type": "markdown",
   "metadata": {},
   "source": [
    "It means <br>\n",
    "__init__(name, H, num_pi_electrons, num_carbons, num_double_bonds) = (\"Benzene\", np.matrix([]), 6, 6, 3)"
   ]
  },
  {
   "cell_type": "markdown",
   "metadata": {},
   "source": [
    "Then __str__ attribue:"
   ]
  },
  {
   "cell_type": "code",
   "execution_count": 17,
   "metadata": {},
   "outputs": [],
   "source": [
    "    def __str__(self):\n",
    "        \"\"\"Create the string representation for the molecule\"\"\"\n",
    "        return \"---\" + self.name + \"--- \\n\" + str(self.H) + \"\\n\" \\\n",
    "               + \"Charge Density :\" + str(self.charge_density) + \"\\n\" \\\n",
    "               + \"Delocalization Energy :\" + str(self.deloc_energy) + \"\\n\" \\\n",
    "               + \"Bond Order :\" + str(self.bond_order) + \"\\n\""
   ]
  },
  {
   "cell_type": "markdown",
   "metadata": {},
   "source": [
    "as I printed above for the out put of __str__, and you can see, it takes the name of the molecule and continues by H matrix, charge density, delocalization energy, and bond order (again):"
   ]
  },
  {
   "cell_type": "code",
   "execution_count": 20,
   "metadata": {},
   "outputs": [
    {
     "name": "stdout",
     "output_type": "stream",
     "text": [
      "---Benzene--- \n",
      "[[ 0. -1.  0.  0.  0. -1.]\n",
      " [-1.  0. -1.  0.  0.  0.]\n",
      " [ 0. -1.  0. -1.  0.  0.]\n",
      " [ 0.  0. -1.  0. -1.  0.]\n",
      " [ 0.  0.  0. -1.  0. -1.]\n",
      " [-1.  0.  0.  0. -1.  0.]]\n",
      "Charge Density :[1.0170175493289442, 0.900433128904733, 1.0825493217663222, 1.0170175493289442, 0.900433128904733, 1.0825493217663227]\n",
      "Delocalization Energy :-2.00000000000000\n",
      "Bond Order :[1.5841173449003443, 1.6496491173377221, 1.7662335377619334, 1.584117344900344, 1.6496491173377221, 1.7662335377619331]\n",
      "\n"
     ]
    }
   ],
   "source": [
    "from molecules.Benzene import benzene\n",
    "print(benzene.__str__())"
   ]
  },
  {
   "cell_type": "markdown",
   "metadata": {},
   "source": [
    "and for these important information to check the structure, as I said before, we need the basic data which are \"name, H (which is calculated by numpy as np.matrix([])), number fo pi electrons, number of carbon atoms, number of double bonds\""
   ]
  }
 ],
 "metadata": {
  "kernelspec": {
   "display_name": "Python 3",
   "language": "python",
   "name": "python3"
  },
  "language_info": {
   "codemirror_mode": {
    "name": "ipython",
    "version": 3
   },
   "file_extension": ".py",
   "mimetype": "text/x-python",
   "name": "python",
   "nbconvert_exporter": "python",
   "pygments_lexer": "ipython3",
   "version": "3.8.3"
  }
 },
 "nbformat": 4,
 "nbformat_minor": 4
}
