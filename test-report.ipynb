{
 "cells": [
  {
   "cell_type": "markdown",
   "metadata": {},
   "source": [
    "# Test report\n",
    "> During this part, we investigate the command line of [Unittest](https://docs.python.org/3/library/unittest.html) to show the bugs of the main code and debug them. <br>\n",
    "Also, there are other methods to test this code too, and you can try."
   ]
  },
  {
   "cell_type": "markdown",
   "metadata": {},
   "source": [
    "Unittest is the simplest command which means that the testing of the smallest part (unit) of the code, which contains the \"Method\" or \"Function\". So, we need to write unittest for each function separately and complete the code.<br>\n",
    "Here the heart of the program is the [Molecule.py](https://github.com/SMNIK/Molecular-Orbital-Theory/blob/master/Molecule.py) file, so below we investigate the functions of this code step by step.<br>\n",
    "The first part of class wich is starts with __init__ is the constructure method which is so useful to manage our functions and data structure.<br>\n",
    "Here, before to start the testing functions we could just check if all of them exist and we did not missed up any one."
   ]
  },
  {
   "cell_type": "code",
   "execution_count": null,
   "metadata": {},
   "outputs": [],
   "source": [
    "from Molecule import Molecule\n",
    "import unittest\n",
    "\n",
    "\n",
    "class Test(unittest.TestCase):\n",
    "    def test(self):\n",
    "        assert Molecule\n",
    "        assert Molecule.find_bond_order\n",
    "        assert Molecule.find_deloc_energy\n",
    "        assert Molecule.find_charge_density\n",
    "        assert Molecule.find_nodes\n",
    "        assert Molecule.set_constants\n",
    "        assert Molecule.generate_eigen\n",
    "        assert Molecule.generate_H\n",
    "        assert Molecule.energy_level_plot\n",
    "        assert Molecule.delete_connections\n",
    "        assert Molecule.add_connections\n",
    "        assert Molecule.__str__\n",
    "        assert Molecule.__init__"
   ]
  },
  {
   "cell_type": "code",
   "execution_count": 4,
   "metadata": {},
   "outputs": [
    {
     "name": "stdout",
     "output_type": "stream",
     "text": [
      "============================= test session starts =============================\n",
      "platform win32 -- Python 3.8.3, pytest-5.4.3, py-1.9.0, pluggy-0.13.1\n",
      "rootdir: C:\\Users\\masou\\GitHub\\Molecular-Orbital-theory\n",
      "plugins: hypothesis-5.38.1\n",
      "collected 1 item\n",
      "\n",
      "testing.py .                                                             [100%]\n",
      "\n",
      "============================== 1 passed in 3.02s ==============================\n"
     ]
    }
   ],
   "source": [
    "!pytest testing.py"
   ]
  },
  {
   "cell_type": "markdown",
   "metadata": {},
   "source": [
    "Now to test the functions and debug them, we just start with "
   ]
  }
 ],
 "metadata": {
  "kernelspec": {
   "display_name": "Python 3",
   "language": "python",
   "name": "python3"
  },
  "language_info": {
   "codemirror_mode": {
    "name": "ipython",
    "version": 3
   },
   "file_extension": ".py",
   "mimetype": "text/x-python",
   "name": "python",
   "nbconvert_exporter": "python",
   "pygments_lexer": "ipython3",
   "version": "3.8.3"
  }
 },
 "nbformat": 4,
 "nbformat_minor": 4
}
